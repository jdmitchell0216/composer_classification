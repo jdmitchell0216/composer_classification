{
 "cells": [
  {
   "cell_type": "markdown",
   "metadata": {},
   "source": [
    "# Automating with split by song"
   ]
  },
  {
   "cell_type": "code",
   "execution_count": 1,
   "metadata": {},
   "outputs": [],
   "source": [
    "%matplotlib inline\n",
    "import numpy, scipy, matplotlib.pyplot as plt, IPython.display as ipd\n",
    "import sklearn, pandas as pd\n",
    "import librosa, librosa.display\n",
    "import sys\n",
    "import time\n",
    "from pathlib import Path\n",
    "import numpy, urllib\n",
    "import librosa.feature as lf\n",
    "from sklearn.metrics import classification_report, confusion_matrix\n",
    "import random\n",
    "from sklearn.model_selection import train_test_split\n",
    "from sklearn.linear_model import SGDClassifier"
   ]
  },
  {
   "cell_type": "code",
   "execution_count": null,
   "metadata": {},
   "outputs": [],
   "source": [
    "x = [np.array(1),np.array(2),np.array(3),np.array(4),np.array(5),np.array(6)]"
   ]
  },
  {
   "cell_type": "code",
   "execution_count": null,
   "metadata": {},
   "outputs": [],
   "source": [
    "random.shuffle(x)"
   ]
  },
  {
   "cell_type": "code",
   "execution_count": null,
   "metadata": {},
   "outputs": [],
   "source": [
    "x"
   ]
  },
  {
   "cell_type": "code",
   "execution_count": null,
   "metadata": {},
   "outputs": [],
   "source": [
    "test_test = len(x)//4\n",
    "test_train = len(x) - test_test\n",
    "train = x[:test_train]\n",
    "test = x[test_train:]"
   ]
  },
  {
   "cell_type": "code",
   "execution_count": null,
   "metadata": {},
   "outputs": [],
   "source": [
    "train"
   ]
  },
  {
   "cell_type": "code",
   "execution_count": null,
   "metadata": {},
   "outputs": [],
   "source": [
    "test"
   ]
  },
  {
   "cell_type": "code",
   "execution_count": 2,
   "metadata": {},
   "outputs": [],
   "source": [
    "plt.style.use('seaborn-muted')\n",
    "plt.rcParams['figure.figsize'] = (14, 5)\n",
    "plt.rcParams['axes.grid'] = True\n",
    "plt.rcParams['axes.spines.left'] = False\n",
    "plt.rcParams['axes.spines.right'] = False\n",
    "plt.rcParams['axes.spines.bottom'] = False\n",
    "plt.rcParams['axes.spines.top'] = False\n",
    "plt.rcParams['axes.xmargin'] = 0\n",
    "plt.rcParams['axes.ymargin'] = 0\n",
    "plt.rcParams['image.cmap'] = 'gray'\n",
    "plt.rcParams['image.interpolation'] = None"
   ]
  },
  {
   "cell_type": "code",
   "execution_count": 3,
   "metadata": {},
   "outputs": [],
   "source": [
    "fcl = [lf.tempogram, lf.chroma_stft, \n",
    "lf.chroma_cqt, \n",
    "lf.chroma_cens,\n",
    "lf.melspectrogram,\n",
    "lf.mfcc,\n",
    "lf.rms,\n",
    "lf.rmse,\n",
    "lf.spectral_centroid,\n",
    "lf.spectral_bandwidth,\n",
    "lf.spectral_contrast,\n",
    "lf.spectral_flatness,\n",
    "lf.spectral_rolloff,\n",
    "lf.poly_features,\n",
    "lf.tonnetz,\n",
    "lf.zero_crossing_rate]"
   ]
  },
  {
   "cell_type": "code",
   "execution_count": null,
   "metadata": {},
   "outputs": [],
   "source": [
    "fcl = [lf.tempogram, lf.chroma_stft, \n",
    "lf.chroma_cqt, \n",
    "lf.chroma_cens,\n",
    "lf.melspectrogram,\n",
    "lf.mfcc,\n",
    "lf.rms,\n",
    "lf.rmse,\n",
    "lf.spectral_centroid,\n",
    "lf.spectral_bandwidth,\n",
    "lf.spectral_contrast,\n",
    "lf.spectral_flatness,\n",
    "lf.spectral_rolloff,\n",
    "lf.poly_features,\n",
    "lf.tonnetz,\n",
    "lf.zero_crossing_rate]"
   ]
  },
  {
   "cell_type": "code",
   "execution_count": 4,
   "metadata": {},
   "outputs": [],
   "source": [
    "def folder_to_features_separated_song(folder_name):\n",
    "    song_count = 0\n",
    "    mp3_names =[\n",
    "        str(p)[len(f'{folder_name}/'):-len('.mp3')] for p in Path().glob(f'{folder_name}/*.mp3')\n",
    "    ]\n",
    "    \n",
    "    audio_time_series_list = [\n",
    "        librosa.load(p)[0] for p in Path().glob(f'{folder_name}/*.mp3')\n",
    "    ]\n",
    "    \n",
    "    by_song = []\n",
    "    for song in audio_time_series_list: \n",
    "        for f in fcl:\n",
    "            if f == lf.tempogram:\n",
    "                feature_i = f(y=song).T\n",
    "            else:\n",
    "                feature_i = np.hstack((feature_i, f(y=song).T))\n",
    "        total_array = feature_i\n",
    "        label_array = np.full((total_array.shape[0],1), folder_name)\n",
    "        total_array = np.hstack((label_array, total_array))\n",
    "        by_song.append(total_array)\n",
    "        song_count += 1\n",
    "    return by_song"
   ]
  },
  {
   "cell_type": "code",
   "execution_count": 5,
   "metadata": {},
   "outputs": [],
   "source": [
    "def combine_multiple_folder_sets_separated_song(folder_name_list):\n",
    "    start = time.time()\n",
    "    all_data_separate_song = []\n",
    "    for folder_data in folder_name_list:\n",
    "        all_data_separate_song += folder_to_features_separated_song(folder_data)\n",
    "        print(f'{folder_data} folder complete at {time.time()-start} seconds from start')\n",
    "    return all_data_separate_song"
   ]
  },
  {
   "cell_type": "code",
   "execution_count": 6,
   "metadata": {},
   "outputs": [],
   "source": [
    "def separate_and_scale_features_and_labels(list_of_data_by_song, frac = 0.05):\n",
    "    random.shuffle(list_of_data_by_song)\n",
    "    number_test = len(list_of_data_by_song)//4\n",
    "    number_train = len(list_of_data_by_song) - number_test\n",
    "    train = list_of_data_by_song[:number_train]\n",
    "    test = list_of_data_by_song[number_train:]\n",
    "    train = np.vstack(train)\n",
    "    test = np.vstack(test)\n",
    "    y_train, X_train = np.split(train,[1], axis=1)\n",
    "    y_test, X_test = np.split(test,[1], axis=1)\n",
    "    scaler = sklearn.preprocessing.StandardScaler()\n",
    "    X_train_scaled = scaler.fit_transform(X_train)\n",
    "    X_test_scaled = scaler.transform(X_test)\n",
    "    return X_train_scaled, X_test_scaled, y_train, y_test, scaler"
   ]
  },
  {
   "cell_type": "code",
   "execution_count": null,
   "metadata": {},
   "outputs": [],
   "source": [
    "pd.DataFrame(y_test)[0].unique()"
   ]
  },
  {
   "cell_type": "code",
   "execution_count": 7,
   "metadata": {},
   "outputs": [],
   "source": [
    "def try_sgdc(X_train_scaled, X_test_scaled, y_train, y_test, max_iter = 5):\n",
    "    model = SGDClassifier(loss='hinge', max_iter = max_iter)\n",
    "    model.fit(X_train_scaled, y_train)\n",
    "    #predicted_labels = model.predict(X_train_scaled)\n",
    "    #score_list.append(model.score(X_test_scaled, y_test))\n",
    "    return model, model.score(X_test_scaled, y_test)"
   ]
  },
  {
   "cell_type": "code",
   "execution_count": null,
   "metadata": {},
   "outputs": [],
   "source": [
    "all_data = combine_multiple_folder_sets_separated_song(['classical_small_test','romantic_small_test','baroque_small_test'])\n"
   ]
  },
  {
   "cell_type": "code",
   "execution_count": null,
   "metadata": {},
   "outputs": [],
   "source": [
    "X_train_scaled, X_test_scaled, y_train, y_test, scaler = separate_and_scale_features_and_labels(all_data)\n",
    "\n"
   ]
  },
  {
   "cell_type": "code",
   "execution_count": null,
   "metadata": {},
   "outputs": [],
   "source": [
    "model, score = try_sgdc(X_train_scaled, X_test_scaled, np.ravel(y_train), np.ravel(y_test), max_iter = 10)"
   ]
  },
  {
   "cell_type": "code",
   "execution_count": null,
   "metadata": {},
   "outputs": [],
   "source": [
    "score"
   ]
  },
  {
   "cell_type": "code",
   "execution_count": null,
   "metadata": {},
   "outputs": [],
   "source": [
    "print(classification_report(y_test, model.predict(X_test_scaled)))\n",
    "#all of the test labels ended up being baroque, which is why these metrics are so weird. It's probably because"
   ]
  },
  {
   "cell_type": "code",
   "execution_count": null,
   "metadata": {},
   "outputs": [],
   "source": [
    "confusion_matrix(y_test, model.predict(X_test_scaled))"
   ]
  },
  {
   "cell_type": "code",
   "execution_count": 8,
   "metadata": {},
   "outputs": [],
   "source": [
    "def run_sgdc_from_scratch(folder_name_list):\n",
    "    #name the folders the name of the label they belong to\n",
    "    #folder_name_list is a list of the folder names like: ['classical_small_test','romantic_small_test','baroque_small_test']\n",
    "    #make sure the folders are in the first level of the file you were cd'ed into when you opened the jupyter notebook\n",
    "    start = time.time()\n",
    "    data = combine_multiple_folder_sets_separated_song(folder_name_list)\n",
    "    print(f'folder to data: {time.time()-start}')\n",
    "    X_train_scaled, X_test_scaled, y_train, y_test, scaler = separate_and_scale_features_and_labels(data)\n",
    "    print(f'data scaled: {time.time()-start}')\n",
    "    model, score = try_sgdc(X_train_scaled, X_test_scaled, y_train, y_test)\n",
    "    print(f'total time: {time.time()-start}')\n",
    "    return data, X_train_scaled, X_test_scaled, y_train, y_test, scaler, model, score"
   ]
  },
  {
   "cell_type": "code",
   "execution_count": null,
   "metadata": {},
   "outputs": [],
   "source": [
    "\n",
    "all_data, X_train_scaled, X_test_scaled, y_train, y_test, scaler, model, score = run_sgdc_from_scratch(['classical_small_test','romantic_small_test','baroque_small_test'])\n",
    "\n"
   ]
  },
  {
   "cell_type": "code",
   "execution_count": null,
   "metadata": {},
   "outputs": [],
   "source": [
    "all_data"
   ]
  },
  {
   "cell_type": "code",
   "execution_count": null,
   "metadata": {},
   "outputs": [],
   "source": [
    "720/60"
   ]
  },
  {
   "cell_type": "code",
   "execution_count": null,
   "metadata": {},
   "outputs": [],
   "source": [
    "score"
   ]
  },
  {
   "cell_type": "code",
   "execution_count": null,
   "metadata": {},
   "outputs": [],
   "source": [
    "confusion_matrix(y_test, model.predict(X_test_scaled))"
   ]
  },
  {
   "cell_type": "code",
   "execution_count": null,
   "metadata": {},
   "outputs": [],
   "source": [
    "\n",
    "all_data, X_train_scaled, X_test_scaled, y_train, y_test, scaler, model, score = run_sgdc_from_scratch(['classical_small_test','romantic_small_test'])\n",
    "\n"
   ]
  },
  {
   "cell_type": "code",
   "execution_count": null,
   "metadata": {},
   "outputs": [],
   "source": [
    "y_test.shape"
   ]
  },
  {
   "cell_type": "code",
   "execution_count": null,
   "metadata": {},
   "outputs": [],
   "source": [
    "y_train.shape"
   ]
  },
  {
   "cell_type": "code",
   "execution_count": null,
   "metadata": {},
   "outputs": [],
   "source": [
    "\n",
    "all_data, X_train_scaled, X_test_scaled, y_train, y_test, scaler, model, score = run_sgdc_from_scratch(['piano_classical','piano_romantic'])\n",
    "\n"
   ]
  },
  {
   "cell_type": "code",
   "execution_count": 15,
   "metadata": {},
   "outputs": [],
   "source": [
    "test = np.array([3,4])\n",
    "np.save('test_array_save', test)"
   ]
  },
  {
   "cell_type": "code",
   "execution_count": 16,
   "metadata": {},
   "outputs": [],
   "source": [
    "test_load = np.load('test_array_save.npy')"
   ]
  },
  {
   "cell_type": "code",
   "execution_count": 17,
   "metadata": {},
   "outputs": [
    {
     "data": {
      "text/plain": [
       "array([3, 4])"
      ]
     },
     "execution_count": 17,
     "metadata": {},
     "output_type": "execute_result"
    }
   ],
   "source": [
    "test_load"
   ]
  },
  {
   "cell_type": "code",
   "execution_count": 23,
   "metadata": {},
   "outputs": [],
   "source": [
    "test2_load = np.load('piano_classicalqqqbeethoven_hammerklavier_1.npy')\n"
   ]
  },
  {
   "cell_type": "code",
   "execution_count": 33,
   "metadata": {},
   "outputs": [
    {
     "data": {
      "text/plain": [
       "numpy.str_"
      ]
     },
     "execution_count": 33,
     "metadata": {},
     "output_type": "execute_result"
    }
   ],
   "source": [
    "type(test2_load[5][5])"
   ]
  },
  {
   "cell_type": "code",
   "execution_count": 26,
   "metadata": {},
   "outputs": [
    {
     "data": {
      "text/plain": [
       "14750000"
      ]
     },
     "execution_count": 26,
     "metadata": {},
     "output_type": "execute_result"
    }
   ],
   "source": [
    "25000*590"
   ]
  },
  {
   "cell_type": "code",
   "execution_count": 27,
   "metadata": {
    "scrolled": false
   },
   "outputs": [
    {
     "data": {
      "text/plain": [
       "0      object\n",
       "1      object\n",
       "2      object\n",
       "3      object\n",
       "4      object\n",
       "5      object\n",
       "6      object\n",
       "7      object\n",
       "8      object\n",
       "9      object\n",
       "10     object\n",
       "11     object\n",
       "12     object\n",
       "13     object\n",
       "14     object\n",
       "15     object\n",
       "16     object\n",
       "17     object\n",
       "18     object\n",
       "19     object\n",
       "20     object\n",
       "21     object\n",
       "22     object\n",
       "23     object\n",
       "24     object\n",
       "25     object\n",
       "26     object\n",
       "27     object\n",
       "28     object\n",
       "29     object\n",
       "        ...  \n",
       "561    object\n",
       "562    object\n",
       "563    object\n",
       "564    object\n",
       "565    object\n",
       "566    object\n",
       "567    object\n",
       "568    object\n",
       "569    object\n",
       "570    object\n",
       "571    object\n",
       "572    object\n",
       "573    object\n",
       "574    object\n",
       "575    object\n",
       "576    object\n",
       "577    object\n",
       "578    object\n",
       "579    object\n",
       "580    object\n",
       "581    object\n",
       "582    object\n",
       "583    object\n",
       "584    object\n",
       "585    object\n",
       "586    object\n",
       "587    object\n",
       "588    object\n",
       "589    object\n",
       "590    object\n",
       "Length: 591, dtype: object"
      ]
     },
     "execution_count": 27,
     "metadata": {},
     "output_type": "execute_result"
    }
   ],
   "source": [
    "pd.DataFrame(test2_load).dtypes"
   ]
  },
  {
   "cell_type": "code",
   "execution_count": 37,
   "metadata": {},
   "outputs": [
    {
     "data": {
      "text/plain": [
       "array([[ 0,  1,  2,  3,  4,  5,  6,  7,  8,  9],\n",
       "       [10, 11, 12, 13, 14, 15, 16, 17, 18, 19],\n",
       "       [20, 21, 22, 23, 24, 25, 26, 27, 28, 29],\n",
       "       [30, 31, 32, 33, 34, 35, 36, 37, 38, 39],\n",
       "       [40, 41, 42, 43, 44, 45, 46, 47, 48, 49],\n",
       "       [50, 51, 52, 53, 54, 55, 56, 57, 58, 59],\n",
       "       [60, 61, 62, 63, 64, 65, 66, 67, 68, 69],\n",
       "       [70, 71, 72, 73, 74, 75, 76, 77, 78, 79],\n",
       "       [80, 81, 82, 83, 84, 85, 86, 87, 88, 89],\n",
       "       [90, 91, 92, 93, 94, 95, 96, 97, 98, 99]])"
      ]
     },
     "execution_count": 37,
     "metadata": {},
     "output_type": "execute_result"
    }
   ],
   "source": [
    "np.arange(100).reshape(10,10)"
   ]
  },
  {
   "cell_type": "code",
   "execution_count": 38,
   "metadata": {},
   "outputs": [
    {
     "data": {
      "text/plain": [
       "array([45., 46., 47., 48., 49., 50., 51., 52., 53., 54.])"
      ]
     },
     "execution_count": 38,
     "metadata": {},
     "output_type": "execute_result"
    }
   ],
   "source": [
    "np.arange(100).reshape(10,10).mean(axis = 0)"
   ]
  },
  {
   "cell_type": "code",
   "execution_count": 20,
   "metadata": {},
   "outputs": [],
   "source": [
    "def save_folder_to_features_separated_song(folder_name):\n",
    "    start=time.time()\n",
    "    song_count = 0\n",
    "    mp3_names =[\n",
    "        str(p)[len(f'{folder_name}/'):-len('.mp3')] for p in Path().glob(f'{folder_name}/*.mp3')\n",
    "    ]\n",
    "    \n",
    "    audio_time_series_list = [\n",
    "        librosa.load(p)[0] for p in Path().glob(f'{folder_name}/*.mp3')\n",
    "    ]\n",
    "    \n",
    "    for song in audio_time_series_list: \n",
    "        for f in fcl:\n",
    "            if f == lf.tempogram:\n",
    "                feature_i = f(y=song).T\n",
    "            else:\n",
    "                feature_i = np.hstack((feature_i, f(y=song).T))\n",
    "        total_array = feature_i\n",
    "        label_array = np.full((total_array.shape[0],1), folder_name)\n",
    "        total_array = np.hstack((label_array, total_array))\n",
    "        np.save(f'{folder_name}qqq{mp3_names[song_count]}', total_array)\n",
    "        print(f'one song done {time.time()-start}')\n",
    "        song_count += 1"
   ]
  },
  {
   "cell_type": "code",
   "execution_count": 19,
   "metadata": {},
   "outputs": [],
   "source": [
    "def save_multiple_folder_sets_separated_song(folder_name_list):\n",
    "    start = time.time()\n",
    "    all_data_separate_song = []\n",
    "    for folder_data in folder_name_list:\n",
    "        all_data_separate_song += save_folder_to_features_separated_song(folder_data)\n",
    "        print(f'{folder_data} folder complete at {time.time()-start} seconds from start')"
   ]
  },
  {
   "cell_type": "code",
   "execution_count": 21,
   "metadata": {},
   "outputs": [
    {
     "name": "stdout",
     "output_type": "stream",
     "text": [
      "one song done 1222.4361310005188\n",
      "one song done 1248.2360880374908\n",
      "one song done 1409.7087342739105\n",
      "one song done 1540.0566132068634\n",
      "one song done 1607.5129661560059\n",
      "one song done 1641.8286950588226\n",
      "one song done 1702.002440214157\n",
      "one song done 1782.2545731067657\n",
      "one song done 1862.9447610378265\n",
      "one song done 1904.0791232585907\n",
      "one song done 1986.2700290679932\n",
      "one song done 2049.7962930202484\n",
      "one song done 2083.528533935547\n",
      "one song done 2140.050796031952\n",
      "one song done 2198.057020187378\n",
      "one song done 2299.8466260433197\n",
      "one song done 2331.254795074463\n",
      "one song done 2365.972659111023\n",
      "one song done 2392.9672832489014\n",
      "one song done 2451.488550186157\n",
      "one song done 2506.9496190547943\n",
      "one song done 2552.033716201782\n",
      "one song done 2695.8404190540314\n",
      "one song done 2750.7539920806885\n",
      "one song done 2829.723039865494\n",
      "one song done 2914.9297490119934\n",
      "one song done 2932.4911909103394\n",
      "one song done 2945.992776155472\n",
      "one song done 2956.771464109421\n",
      "one song done 2980.563900232315\n",
      "one song done 2993.1775081157684\n",
      "one song done 3011.9082510471344\n",
      "one song done 3046.1499061584473\n",
      "one song done 3063.2898581027985\n",
      "one song done 3078.8613250255585\n",
      "one song done 3118.640492916107\n",
      "one song done 3139.170571088791\n",
      "one song done 3160.00811624527\n",
      "one song done 3215.9348289966583\n",
      "one song done 3236.9129819869995\n",
      "one song done 3271.6931371688843\n",
      "one song done 3334.751654148102\n",
      "one song done 3362.299923181534\n",
      "one song done 3440.264932155609\n",
      "one song done 3473.275740146637\n",
      "one song done 3539.41504406929\n",
      "one song done 3596.0144691467285\n",
      "one song done 3641.0216891765594\n",
      "one song done 3703.799278974533\n",
      "one song done 3777.3106350898743\n",
      "one song done 3803.838093996048\n",
      "one song done 3878.9476211071014\n",
      "one song done 3906.243198156357\n",
      "one song done 3963.7798051834106\n",
      "one song done 3975.1270298957825\n",
      "one song done 4001.890037059784\n",
      "one song done 4018.621929883957\n",
      "one song done 4040.560531139374\n",
      "one song done 4050.3873720169067\n",
      "one song done 4065.775979042053\n",
      "one song done 4072.6578240394592\n",
      "one song done 4098.456665992737\n",
      "one song done 4127.823443174362\n",
      "one song done 4136.573369026184\n",
      "one song done 4183.899600028992\n",
      "one song done 4234.656204938889\n",
      "one song done 4301.154963254929\n",
      "one song done 4374.429492950439\n",
      "one song done 4464.567123174667\n",
      "one song done 4625.777125120163\n",
      "one song done 4692.944293022156\n",
      "one song done 4727.413054227829\n",
      "one song done 4775.672607898712\n",
      "one song done 4889.446548938751\n",
      "one song done 5005.802450180054\n",
      "one song done 5102.676512002945\n",
      "one song done 5165.889149188995\n",
      "one song done 5212.530835151672\n",
      "one song done 5273.835035085678\n",
      "one song done 5292.859862089157\n",
      "one song done 5380.383977174759\n",
      "one song done 5464.966583967209\n",
      "one song done 5501.293417215347\n"
     ]
    }
   ],
   "source": [
    "save_folder_to_features_separated_song('piano_classical')"
   ]
  },
  {
   "cell_type": "code",
   "execution_count": 22,
   "metadata": {},
   "outputs": [
    {
     "data": {
      "text/plain": [
       "91.68333333333334"
      ]
     },
     "execution_count": 22,
     "metadata": {},
     "output_type": "execute_result"
    }
   ],
   "source": [
    "5501/60"
   ]
  },
  {
   "cell_type": "code",
   "execution_count": null,
   "metadata": {},
   "outputs": [],
   "source": []
  }
 ],
 "metadata": {
  "kernelspec": {
   "display_name": "base",
   "language": "python",
   "name": "base"
  },
  "language_info": {
   "codemirror_mode": {
    "name": "ipython",
    "version": 3
   },
   "file_extension": ".py",
   "mimetype": "text/x-python",
   "name": "python",
   "nbconvert_exporter": "python",
   "pygments_lexer": "ipython3",
   "version": "3.7.1"
  },
  "varInspector": {
   "cols": {
    "lenName": 16,
    "lenType": 16,
    "lenVar": 40
   },
   "kernels_config": {
    "python": {
     "delete_cmd_postfix": "",
     "delete_cmd_prefix": "del ",
     "library": "var_list.py",
     "varRefreshCmd": "print(var_dic_list())"
    },
    "r": {
     "delete_cmd_postfix": ") ",
     "delete_cmd_prefix": "rm(",
     "library": "var_list.r",
     "varRefreshCmd": "cat(var_dic_list()) "
    }
   },
   "types_to_exclude": [
    "module",
    "function",
    "builtin_function_or_method",
    "instance",
    "_Feature"
   ],
   "window_display": false
  }
 },
 "nbformat": 4,
 "nbformat_minor": 2
}
